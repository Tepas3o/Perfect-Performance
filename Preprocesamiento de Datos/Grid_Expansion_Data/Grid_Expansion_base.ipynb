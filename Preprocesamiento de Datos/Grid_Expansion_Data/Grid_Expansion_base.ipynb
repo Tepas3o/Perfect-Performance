{
 "cells": [
  {
   "cell_type": "markdown",
   "metadata": {},
   "source": [
    "Librerias"
   ]
  },
  {
   "cell_type": "code",
   "execution_count": 1,
   "metadata": {},
   "outputs": [],
   "source": [
    "import pandas as pd\n",
    "import numpy as np"
   ]
  },
  {
   "cell_type": "markdown",
   "metadata": {},
   "source": [
    "Lectura de los datos de entrada."
   ]
  },
  {
   "cell_type": "code",
   "execution_count": 3,
   "metadata": {},
   "outputs": [
    {
     "name": "stdout",
     "output_type": "stream",
     "text": [
      "4592\n",
      "86443\n",
      "32337\n",
      "6317\n"
     ]
    }
   ],
   "source": [
    "# Datos de entrada\n",
    "Filename_Exp = 'Input/Expansion_con_alimentadores.xlsx'  # Datos expansión territorial.\n",
    "Filename_Demanda = {\n",
    "    665: 'Input/MEDIDAS_665.xlsx',\n",
    "    675: 'Input/MEDIDAS_675.xlsx',\n",
    "    677: 'Input/MEDIDAS_677.xlsx',\n",
    "    678: 'Input/MEDIDAS_678.xlsx'\n",
    "}\n",
    "\n",
    "# Cargar datos de expansión territorial y agregar columna de alimentador si es necesario.\n",
    "columnas_interes_exp = ['Longitud', 'Latitud', 'tot(2017)', 'Alimentador Cercano','Bus Cercano','Nombre Bus Cercano']\n",
    "personas_df = pd.read_excel(Filename_Exp, usecols=columnas_interes_exp)\n",
    "\n",
    "# Inicializar DataFrame para almacenar los resultados finales.\n",
    "resultados_final = pd.DataFrame()\n",
    "\n",
    "# Procesar los datos para cada alimentador\n",
    "for alimentador, filename in Filename_Demanda.items():\n",
    "    # Leer el archivo de medidas correspondiente al alimentador actual.\n",
    "    medidas_df = pd.read_excel(filename)\n",
    "    \n",
    "    # Filtrar personas_df para el alimentador actual.\n",
    "    personas_alimentador = personas_df[personas_df['Alimentador Cercano'] == alimentador]\n",
    "    \n",
    "    # Sumar el total de viviendas para el alimentador actual.\n",
    "    total_viviendas_alimentador = personas_alimentador['tot(2017)'].sum()\n",
    "    \n",
    "    # Crear un DataFrame para almacenar los resultados de este alimentador.\n",
    "    resultados_alimentador = []\n",
    "    \n",
    "    # Iterar sobre cada registro de medidas para el alimentador actual.\n",
    "    for _, row_medidas in medidas_df.iterrows():\n",
    "        fecha_local = row_medidas['fecha_local']\n",
    "        p = row_medidas['p']\n",
    "        q = row_medidas['q']\n",
    "        s = row_medidas['s']\n",
    "        \n",
    "        # Calcular la potencia base para el alimentador actual.\n",
    "        potencia_base_total_p = p / total_viviendas_alimentador\n",
    "        potencia_base_total_q = q / total_viviendas_alimentador\n",
    "        potencia_base_total_s = s / total_viviendas_alimentador\n",
    "        \n",
    "        # Distribuir la potencia a cada vivienda para el alimentador actual.\n",
    "        for _, row_personas in personas_alimentador.iterrows():\n",
    "            longitud = row_personas['Longitud']\n",
    "            latitud = row_personas['Latitud']\n",
    "            num_total = row_personas['tot(2017)']\n",
    "            bus_cercano = row_personas['Bus Cercano']\n",
    "            nombre_bus_cercano = row_personas['Nombre Bus Cercano']\n",
    "            potencia_asignada_total_p = potencia_base_total_p * num_total\n",
    "            potencia_asignada_total_q = potencia_base_total_q * num_total\n",
    "            potencia_asignada_total_s = potencia_base_total_s * num_total\n",
    "            \n",
    "            # Agregar los resultados a la lista de resultados del alimentador.\n",
    "            resultados_alimentador.append([\n",
    "                longitud, latitud, num_total, potencia_asignada_total_p, potencia_asignada_total_q, \n",
    "                potencia_asignada_total_s, fecha_local, alimentador, bus_cercano,nombre_bus_cercano\n",
    "            ])\n",
    "    \n",
    "    # Convertir los resultados del alimentador a DataFrame y agregarlos al DataFrame final.\n",
    "    columnas_resultados = ['Longitud', 'Latitud', 'tot(2017)', 'p', 'q', 's', 'fecha_local', 'Alimentador','Bus Cercano', 'Nombre Bus Cerano']\n",
    "    resultados_alimentador_df = pd.DataFrame(resultados_alimentador, columns=columnas_resultados)\n",
    "    resultados_final = pd.concat([resultados_final, resultados_alimentador_df])\n",
    "\n",
    "# Guardar el DataFrame final en un archivo Excel.\n",
    "resultados_final.to_excel('Output/Consumo_por_alimentador.xlsx', index=False)"
   ]
  }
 ],
 "metadata": {
  "kernelspec": {
   "display_name": "base",
   "language": "python",
   "name": "python3"
  },
  "language_info": {
   "codemirror_mode": {
    "name": "ipython",
    "version": 3
   },
   "file_extension": ".py",
   "mimetype": "text/x-python",
   "name": "python",
   "nbconvert_exporter": "python",
   "pygments_lexer": "ipython3",
   "version": "3.9.13"
  }
 },
 "nbformat": 4,
 "nbformat_minor": 2
}
