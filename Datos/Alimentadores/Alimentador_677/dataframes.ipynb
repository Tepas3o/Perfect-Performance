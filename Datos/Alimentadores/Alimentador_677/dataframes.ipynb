{
 "cells": [
  {
   "cell_type": "code",
   "execution_count": 10,
   "metadata": {},
   "outputs": [
    {
     "name": "stdout",
     "output_type": "stream",
     "text": [
      "      empresa_id  poste_id       nom_comuna    nom_region tipo_tension  \\\n",
      "0             18    765930  Padre Las Casas  La Araucanía           BT   \n",
      "1             18     78936  Padre Las Casas  La Araucanía           MT   \n",
      "2             18    673851  Padre Las Casas  La Araucanía           BT   \n",
      "3             18    661823  Padre Las Casas  La Araucanía           BT   \n",
      "4             18    804019  Padre Las Casas  La Araucanía           BT   \n",
      "...          ...       ...              ...           ...          ...   \n",
      "2821          18    763069  Padre Las Casas  La Araucanía           BT   \n",
      "2822          18     78737  Padre Las Casas  La Araucanía           MT   \n",
      "2823          18     50984  Padre Las Casas  La Araucanía           MT   \n",
      "2824          18     44582  Padre Las Casas  La Araucanía           MT   \n",
      "2825          18     51011  Padre Las Casas  La Araucanía           MT   \n",
      "\n",
      "     codigo_placa             propiedad     cudn  altura_poste  material  \\\n",
      "0           42130  Inst. de distribució  PA080H1           8.0  Hormigón   \n",
      "1          267088  Inst. de distribució  PA100H2          10.0  Hormigón   \n",
      "2          237999  Inst. de distribució  PA090H2           9.0  Hormigón   \n",
      "3          165466  Inst. de distribució  PA080H1           8.0  Hormigón   \n",
      "4          237585  Inst. de distribució  PA090H2           9.0  Hormigón   \n",
      "...           ...                   ...      ...           ...       ...   \n",
      "2821       157686  Inst. de distribució  PA080H1           8.0  Hormigón   \n",
      "2822       225378  Inst. de distribució  PA115H2          11.5  Hormigón   \n",
      "2823       250052  Inst. de distribució  PA115H2          11.5  Hormigón   \n",
      "2824       158449  Inst. de distribució  PA100H2          10.0  Hormigón   \n",
      "2825       157670  Inst. de distribució  PA100H2          10.0  Hormigón   \n",
      "\n",
      "     disp_postacion  cant_redes_mt  cant_redes_bt   datum  zona           x  \\\n",
      "0            remate              0              1  PSAD56    19  173154.798   \n",
      "1              paso              1              1  PSAD56    19  182543.800   \n",
      "2            remate              0              1  PSAD56    19  182823.957   \n",
      "3              paso              0              1  PSAD56    19  177506.107   \n",
      "4            remate              0              1  PSAD56    19  178298.711   \n",
      "...             ...            ...            ...     ...   ...         ...   \n",
      "2821            NaN              0              1  PSAD56    19  180398.692   \n",
      "2822           paso              1              1  PSAD56    19  173568.334   \n",
      "2823           paso              1              1  PSAD56    19  176910.599   \n",
      "2824         remate              1              0  PSAD56    19  174250.831   \n",
      "2825         remate              1              1  PSAD56    19  179997.684   \n",
      "\n",
      "                y        lat       long  \n",
      "0     5700414.327 -38.787072 -72.764941  \n",
      "1     5702668.507 -38.770231 -72.656028  \n",
      "2     5701473.892 -38.781075 -72.653359  \n",
      "3     5700463.196 -38.788235 -72.714926  \n",
      "4     5699655.772 -38.795785 -72.706195  \n",
      "...           ...        ...        ...  \n",
      "2821  5700325.998 -38.790522 -72.681754  \n",
      "2822  5697298.780 -38.815240 -72.761665  \n",
      "2823  5700662.087 -38.786228 -72.721675  \n",
      "2824  5698479.611 -38.804875 -72.753263  \n",
      "2825  5700059.104 -38.792777 -72.686485  \n",
      "\n",
      "[2826 rows x 19 columns]\n"
     ]
    }
   ],
   "source": [
    "import pandas as pd\n",
    "medidas=pd.read_csv(\"MEDIDAS.csv\")\n",
    "postes=pd.read_csv(r\"C:\\Users\\Mati\\Desktop\\datos\\1.CSV\\18-677-POSTE.csv\")\n",
    "print(postes)\n",
    "#print(medidas)"
   ]
  }
 ],
 "metadata": {
  "kernelspec": {
   "display_name": "base",
   "language": "python",
   "name": "python3"
  },
  "language_info": {
   "codemirror_mode": {
    "name": "ipython",
    "version": 3
   },
   "file_extension": ".py",
   "mimetype": "text/x-python",
   "name": "python",
   "nbconvert_exporter": "python",
   "pygments_lexer": "ipython3",
   "version": "3.9.13"
  },
  "orig_nbformat": 4
 },
 "nbformat": 4,
 "nbformat_minor": 2
}
